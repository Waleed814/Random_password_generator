{
 "cells": [
  {
   "cell_type": "code",
   "execution_count": null,
   "metadata": {},
   "outputs": [],
   "source": [
    "import random\n",
    "user=input(('PLEASE ENTER A USER NAME:'))\n",
    "passw=random.randint(1,1000)\n",
    "print('your user name is :' , user)\n",
    "print('your password is :' , passw)"
   ]
  }
 ],
 "metadata": {
  "language_info": {
   "name": "python"
  }
 },
 "nbformat": 4,
 "nbformat_minor": 2
}
